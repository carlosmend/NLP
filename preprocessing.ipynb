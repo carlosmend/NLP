{
  "cells": [
    {
      "cell_type": "code",
      "execution_count": null,
      "metadata": {
        "id": "XmZ6xhWxyKUO"
      },
      "outputs": [],
      "source": [
        "import pandas as pd\n",
        "import nltk\n",
        "from google.colab import files\n",
        "import numpy as np\n",
        "import spacy\n",
        "import re\n",
        "import string\n",
        "from sklearn.feature_extraction.text import TfidfVectorizer\n",
        "from sklearn.feature_extraction import text #para hacer stop_word \n",
        "\n",
        "nltk.download('stopwords')\n",
        "from nltk.corpus import stopwords\n",
        "\n",
        "#Spacy spanish piple\n",
        "!python -m spacy download es_core_news_lg"
      ]
    },
    {
      "cell_type": "markdown",
      "source": [
        "Mount your dataset (In my case, i have it in drive)"
      ],
      "metadata": {
        "id": "MJE0lm1CicRp"
      }
    },
    {
      "cell_type": "code",
      "source": [
        "\n",
        "from google.colab import drive\n",
        "drive.mount(\"/content/drive\")\n",
        "\n"
      ],
      "metadata": {
        "colab": {
          "base_uri": "https://localhost:8080/"
        },
        "id": "rxrupHsxyUA5",
        "outputId": "40635c37-e724-4f68-b9a3-370c3d2f6a70"
      },
      "execution_count": null,
      "outputs": [
        {
          "output_type": "stream",
          "name": "stdout",
          "text": [
            "Mounted at /content/drive\n"
          ]
        }
      ]
    },
    {
      "cell_type": "code",
      "execution_count": null,
      "metadata": {
        "colab": {
          "base_uri": "https://localhost:8080/",
          "height": 432
        },
        "id": "dRhrzAmFyKUT",
        "outputId": "9734b585-7826-4eb4-a47a-4943c43cb52c"
      },
      "outputs": [
        {
          "output_type": "stream",
          "name": "stdout",
          "text": [
            "class\n",
            "suicida       43381\n",
            "no_suicida    40735\n",
            "dtype: int64\n"
          ]
        },
        {
          "output_type": "execute_result",
          "data": {
            "text/plain": [
              "                                               traducido       class\n",
              "81367  ¿Pensaste que olvidé el tiempo de apreciación ...  no_suicida\n",
              "72985  Así que necesito ayuda de las personas de Inte...  no_suicida\n",
              "30443  Un poco de ventilación, intentaré no hacer que...     suicida\n",
              "18464  Qué doloroso es cortar considerando cortarme l...     suicida\n",
              "54633  Ah sí, mi signo del zodiaco favorito, Virgin A...  no_suicida\n",
              "26882  Pensando en ir a Tonighthi impacientes allí, c...     suicida\n",
              "29276  El mejor amigo no tiene apoyo de sus hermanos,...     suicida\n",
              "29160  30 Dayhi, soy alguien que ha estado contemplan...     suicida\n",
              "67601  Las redes sociales apestan a las personas que ...  no_suicida\n",
              "60817  Voy a ser contundente, pero ¿alguien quiere ha...  no_suicida"
            ],
            "text/html": [
              "\n",
              "  <div id=\"df-9a5f7b90-2eef-4b23-b807-000f6aa00952\">\n",
              "    <div class=\"colab-df-container\">\n",
              "      <div>\n",
              "<style scoped>\n",
              "    .dataframe tbody tr th:only-of-type {\n",
              "        vertical-align: middle;\n",
              "    }\n",
              "\n",
              "    .dataframe tbody tr th {\n",
              "        vertical-align: top;\n",
              "    }\n",
              "\n",
              "    .dataframe thead th {\n",
              "        text-align: right;\n",
              "    }\n",
              "</style>\n",
              "<table border=\"1\" class=\"dataframe\">\n",
              "  <thead>\n",
              "    <tr style=\"text-align: right;\">\n",
              "      <th></th>\n",
              "      <th>traducido</th>\n",
              "      <th>class</th>\n",
              "    </tr>\n",
              "  </thead>\n",
              "  <tbody>\n",
              "    <tr>\n",
              "      <th>81367</th>\n",
              "      <td>¿Pensaste que olvidé el tiempo de apreciación ...</td>\n",
              "      <td>no_suicida</td>\n",
              "    </tr>\n",
              "    <tr>\n",
              "      <th>72985</th>\n",
              "      <td>Así que necesito ayuda de las personas de Inte...</td>\n",
              "      <td>no_suicida</td>\n",
              "    </tr>\n",
              "    <tr>\n",
              "      <th>30443</th>\n",
              "      <td>Un poco de ventilación, intentaré no hacer que...</td>\n",
              "      <td>suicida</td>\n",
              "    </tr>\n",
              "    <tr>\n",
              "      <th>18464</th>\n",
              "      <td>Qué doloroso es cortar considerando cortarme l...</td>\n",
              "      <td>suicida</td>\n",
              "    </tr>\n",
              "    <tr>\n",
              "      <th>54633</th>\n",
              "      <td>Ah sí, mi signo del zodiaco favorito, Virgin A...</td>\n",
              "      <td>no_suicida</td>\n",
              "    </tr>\n",
              "    <tr>\n",
              "      <th>26882</th>\n",
              "      <td>Pensando en ir a Tonighthi impacientes allí, c...</td>\n",
              "      <td>suicida</td>\n",
              "    </tr>\n",
              "    <tr>\n",
              "      <th>29276</th>\n",
              "      <td>El mejor amigo no tiene apoyo de sus hermanos,...</td>\n",
              "      <td>suicida</td>\n",
              "    </tr>\n",
              "    <tr>\n",
              "      <th>29160</th>\n",
              "      <td>30 Dayhi, soy alguien que ha estado contemplan...</td>\n",
              "      <td>suicida</td>\n",
              "    </tr>\n",
              "    <tr>\n",
              "      <th>67601</th>\n",
              "      <td>Las redes sociales apestan a las personas que ...</td>\n",
              "      <td>no_suicida</td>\n",
              "    </tr>\n",
              "    <tr>\n",
              "      <th>60817</th>\n",
              "      <td>Voy a ser contundente, pero ¿alguien quiere ha...</td>\n",
              "      <td>no_suicida</td>\n",
              "    </tr>\n",
              "  </tbody>\n",
              "</table>\n",
              "</div>\n",
              "      <button class=\"colab-df-convert\" onclick=\"convertToInteractive('df-9a5f7b90-2eef-4b23-b807-000f6aa00952')\"\n",
              "              title=\"Convert this dataframe to an interactive table.\"\n",
              "              style=\"display:none;\">\n",
              "        \n",
              "  <svg xmlns=\"http://www.w3.org/2000/svg\" height=\"24px\"viewBox=\"0 0 24 24\"\n",
              "       width=\"24px\">\n",
              "    <path d=\"M0 0h24v24H0V0z\" fill=\"none\"/>\n",
              "    <path d=\"M18.56 5.44l.94 2.06.94-2.06 2.06-.94-2.06-.94-.94-2.06-.94 2.06-2.06.94zm-11 1L8.5 8.5l.94-2.06 2.06-.94-2.06-.94L8.5 2.5l-.94 2.06-2.06.94zm10 10l.94 2.06.94-2.06 2.06-.94-2.06-.94-.94-2.06-.94 2.06-2.06.94z\"/><path d=\"M17.41 7.96l-1.37-1.37c-.4-.4-.92-.59-1.43-.59-.52 0-1.04.2-1.43.59L10.3 9.45l-7.72 7.72c-.78.78-.78 2.05 0 2.83L4 21.41c.39.39.9.59 1.41.59.51 0 1.02-.2 1.41-.59l7.78-7.78 2.81-2.81c.8-.78.8-2.07 0-2.86zM5.41 20L4 18.59l7.72-7.72 1.47 1.35L5.41 20z\"/>\n",
              "  </svg>\n",
              "      </button>\n",
              "      \n",
              "  <style>\n",
              "    .colab-df-container {\n",
              "      display:flex;\n",
              "      flex-wrap:wrap;\n",
              "      gap: 12px;\n",
              "    }\n",
              "\n",
              "    .colab-df-convert {\n",
              "      background-color: #E8F0FE;\n",
              "      border: none;\n",
              "      border-radius: 50%;\n",
              "      cursor: pointer;\n",
              "      display: none;\n",
              "      fill: #1967D2;\n",
              "      height: 32px;\n",
              "      padding: 0 0 0 0;\n",
              "      width: 32px;\n",
              "    }\n",
              "\n",
              "    .colab-df-convert:hover {\n",
              "      background-color: #E2EBFA;\n",
              "      box-shadow: 0px 1px 2px rgba(60, 64, 67, 0.3), 0px 1px 3px 1px rgba(60, 64, 67, 0.15);\n",
              "      fill: #174EA6;\n",
              "    }\n",
              "\n",
              "    [theme=dark] .colab-df-convert {\n",
              "      background-color: #3B4455;\n",
              "      fill: #D2E3FC;\n",
              "    }\n",
              "\n",
              "    [theme=dark] .colab-df-convert:hover {\n",
              "      background-color: #434B5C;\n",
              "      box-shadow: 0px 1px 3px 1px rgba(0, 0, 0, 0.15);\n",
              "      filter: drop-shadow(0px 1px 2px rgba(0, 0, 0, 0.3));\n",
              "      fill: #FFFFFF;\n",
              "    }\n",
              "  </style>\n",
              "\n",
              "      <script>\n",
              "        const buttonEl =\n",
              "          document.querySelector('#df-9a5f7b90-2eef-4b23-b807-000f6aa00952 button.colab-df-convert');\n",
              "        buttonEl.style.display =\n",
              "          google.colab.kernel.accessAllowed ? 'block' : 'none';\n",
              "\n",
              "        async function convertToInteractive(key) {\n",
              "          const element = document.querySelector('#df-9a5f7b90-2eef-4b23-b807-000f6aa00952');\n",
              "          const dataTable =\n",
              "            await google.colab.kernel.invokeFunction('convertToInteractive',\n",
              "                                                     [key], {});\n",
              "          if (!dataTable) return;\n",
              "\n",
              "          const docLinkHtml = 'Like what you see? Visit the ' +\n",
              "            '<a target=\"_blank\" href=https://colab.research.google.com/notebooks/data_table.ipynb>data table notebook</a>'\n",
              "            + ' to learn more about interactive tables.';\n",
              "          element.innerHTML = '';\n",
              "          dataTable['output_type'] = 'display_data';\n",
              "          await google.colab.output.renderOutput(dataTable, element);\n",
              "          const docLink = document.createElement('div');\n",
              "          docLink.innerHTML = docLinkHtml;\n",
              "          element.appendChild(docLink);\n",
              "        }\n",
              "      </script>\n",
              "    </div>\n",
              "  </div>\n",
              "  "
            ]
          },
          "metadata": {},
          "execution_count": 8
        }
      ],
      "source": [
        "dataset=pd.read_csv('/content/drive/MyDrive/Datasets/dataset.csv')\n",
        "print(dataset.value_counts('class'))\n",
        "dataset.sample(10)"
      ]
    },
    {
      "cell_type": "markdown",
      "metadata": {
        "id": "kXMDL1SSyKUW"
      },
      "source": [
        "<h1>Clean up texts <h1>"
      ]
    },
    {
      "cell_type": "code",
      "execution_count": null,
      "metadata": {
        "id": "MOxNo4kXyKUY"
      },
      "outputs": [],
      "source": [
        "dataset = dataset.drop_duplicates('traducido')\n",
        "dataset=dataset.dropna()\n",
        "\n",
        "def clean_text(text):\n",
        "    # convert text to lowercase\n",
        "    text = text.lower()\n",
        "\n",
        "    #Remove URLs\n",
        "    text=re.sub(r'http:?\\S+','',text)\n",
        "\n",
        "    # Remove punctuation characters\n",
        "    text = re.sub(\"[%s]\" % re.escape(string.punctuation), \" \", text)\n",
        "    \n",
        "    # Remove non-ASCII characters, but ncluding Latin characters\n",
        "    text = re.sub(\"([^\\x00-\\x7F\\u00C0-\\u017F])+\", \" \", text)\n",
        "  \n",
        "\n",
        "    #remove extra spaces and words with less than 2 characters\n",
        "    filter = [palabra for palabra in text.split() if (len(palabra) > 2 or palabra=='no') and palabra.isalpha() ]\n",
        "    text = \" \".join(filter)\n",
        "   \n",
        "    return text\n",
        "\n"
      ]
    },
    {
      "cell_type": "markdown",
      "source": [
        "An example clean up text"
      ],
      "metadata": {
        "id": "XcdTu4PnlBXl"
      }
    },
    {
      "cell_type": "code",
      "execution_count": null,
      "metadata": {
        "colab": {
          "base_uri": "https://localhost:8080/",
          "height": 36
        },
        "id": "Z4EHH5TIyKUZ",
        "outputId": "11c03111-df99-452b-c8a7-327764a3703f"
      },
      "outputs": [
        {
          "output_type": "execute_result",
          "data": {
            "text/plain": [
              "'hola comer cocinar estás no bebé niño'"
            ],
            "application/vnd.google.colaboratory.intrinsic+json": {
              "type": "string"
            }
          },
          "metadata": {},
          "execution_count": 12
        }
      ],
      "source": [
        "clean_text(\"HOla      приве   comer/cocinar   estás es no 2000 u bebé, s.?#https:\\swww.facebook.com niño\")\n"
      ]
    },
    {
      "cell_type": "code",
      "execution_count": null,
      "metadata": {
        "id": "Lp2KxeFYyKUa"
      },
      "outputs": [],
      "source": [
        "dataset['text_clean'] = dataset['traducido'].apply(lambda x: clean_text(x))"
      ]
    },
    {
      "cell_type": "markdown",
      "source": [
        "<h1>StopWords<h1>"
      ],
      "metadata": {
        "id": "zBFX25LllYFu"
      }
    },
    {
      "cell_type": "code",
      "execution_count": null,
      "metadata": {
        "id": "1ySDJSxbyKUb",
        "colab": {
          "base_uri": "https://localhost:8080/"
        },
        "outputId": "cb24b442-e572-458b-f99f-0a91a283f677"
      },
      "outputs": [
        {
          "output_type": "stream",
          "name": "stderr",
          "text": [
            "[nltk_data] Downloading package stopwords to /root/nltk_data...\n",
            "[nltk_data]   Package stopwords is already up-to-date!\n"
          ]
        }
      ],
      "source": [
        "from nltk.corpus import stopwords\n",
        "nltk.download('stopwords')\n",
        "stop=list(stopwords.words(\"spanish\"))\n",
        "stop.extend(['pok\t','megathiccc','snoo','fillerfiller','relleno', 'rellenador','eve','filler','maíz','pop','aaaaaaaaaaaaaaaaaaaaaaaaa','pog','nnn','redader','nnn','nowoww','mei','iti','nowlow','upi'])\n",
        "\n",
        "def remove_stopwords(text):\n",
        "    stopwords_esp = stopwords.words('spanish') \n",
        "    words = text.split()\n",
        "    text= [word for word in words if word not in stopwords_esp]\n",
        "    return \" \".join(text)\n"
      ]
    },
    {
      "cell_type": "code",
      "execution_count": null,
      "metadata": {
        "colab": {
          "base_uri": "https://localhost:8080/"
        },
        "id": "Lb95uUHmyKUc",
        "outputId": "19b9dec1-4028-4a18-c55b-831c3c216e26"
      },
      "outputs": [
        {
          "output_type": "stream",
          "name": "stdout",
          "text": [
            "total characters with stopwords and without clean up 53551884, with cleaning and without stopwords 45512233\n",
            "Remove -->  15.012825692556397 %\n"
          ]
        }
      ],
      "source": [
        "dataset['text_clean_stop']=dataset['text_clean'].apply(lambda x: remove_stopwords(x))\n",
        "\n",
        "without_stop= dataset['traducido'].str.len().sum()\n",
        "with_stop= dataset['text_clean'].str.len().sum()\n",
        "print(\"total characters with stopwords and without clean up %s, with cleaning and without stopwords %s\" %(without_stop,with_stop))\n",
        "      \n",
        "print(\"Remove --> \", (1-(with_stop/without_stop))*100,\"%\")\n",
        "\n",
        "\n"
      ]
    },
    {
      "cell_type": "markdown",
      "source": [
        "<h1>Lemmatization<h1>"
      ],
      "metadata": {
        "id": "h7DbIqivnmWg"
      }
    },
    {
      "cell_type": "code",
      "source": [
        "# load pipeline spanish\n",
        "nlp = spacy.load('es_core_news_lg')\n",
        "\n",
        "\n",
        "def lemmatization(text):\n",
        "  doc = nlp(text)\n",
        "  lemas_fila = [token.lemma_ for token in doc]\n",
        "  text=' '.join(lemas_fila)\n",
        "  return ' '.join(lemas_fila)"
      ],
      "metadata": {
        "id": "HOJhHn6LyxD2"
      },
      "execution_count": null,
      "outputs": []
    },
    {
      "cell_type": "code",
      "source": [
        "dataset['text_lemma']=dataset['text_clean'].apply(lambda x: lemmatization(x))\n"
      ],
      "metadata": {
        "id": "fIpVY2dJz-3O"
      },
      "execution_count": null,
      "outputs": []
    },
    {
      "cell_type": "markdown",
      "source": [
        "<h1>Tokenize texts<h1>"
      ],
      "metadata": {
        "id": "JSyIAPAy3pEJ"
      }
    },
    {
      "cell_type": "code",
      "source": [
        "from nltk.tokenize import word_tokenize\n",
        "nltk.download('punkt')\n",
        "def tokenize(text):\n",
        "  words = text.split()\n",
        "  stopwords_esp = stopwords.words('spanish') \n",
        "  return [word for word in nltk.word_tokenize(text) if word.lower() not in stop]\n",
        "\n"
      ],
      "metadata": {
        "colab": {
          "base_uri": "https://localhost:8080/"
        },
        "id": "1VYAHlyBw27D",
        "outputId": "fe0e0165-323e-4687-d9ef-955aaa0641d1"
      },
      "execution_count": 41,
      "outputs": [
        {
          "output_type": "stream",
          "name": "stderr",
          "text": [
            "[nltk_data] Downloading package punkt to /root/nltk_data...\n",
            "[nltk_data]   Unzipping tokenizers/punkt.zip.\n"
          ]
        }
      ]
    },
    {
      "cell_type": "code",
      "source": [
        "dataset['text_tokenize']=dataset['text_lemma'].apply(lambda x: tokenize(x))"
      ],
      "metadata": {
        "id": "PCqIdwg0yO57"
      },
      "execution_count": 44,
      "outputs": []
    },
    {
      "cell_type": "markdown",
      "source": [
        "<h1>Vectorize text<h1>"
      ],
      "metadata": {
        "id": "lcBSn1nZzfFV"
      }
    },
    {
      "cell_type": "code",
      "source": [
        "#min_df=0.001  max_df=90    \n",
        "#Note1: it´s better to use bigram than unigram, but needs more processing power, min_df and max_df.\n",
        "#Note2: To find a min and a max, you must try several values. Recommendation max_df(0.7-0.9)\n",
        "vectorizer=TfidfVectorizer(ngram_range=(1,1),min_df=0.001,max_df=0.9)  \n",
        "vectors=vectorizer.fit_transform(dataset.text_lemma)    \n",
        "vectorTf = vectorizer.transform(dataset.text_lemma).toarray()\n",
        "\n",
        "print(vectorTf.shape)                                               "
      ],
      "metadata": {
        "colab": {
          "base_uri": "https://localhost:8080/"
        },
        "id": "zDNqp1PD3iJJ",
        "outputId": "466f1306-6852-4990-e01a-7d8ba34fc13c"
      },
      "execution_count": null,
      "outputs": [
        {
          "output_type": "stream",
          "name": "stderr",
          "text": [
            "/usr/local/lib/python3.10/dist-packages/sklearn/feature_extraction/text.py:409: UserWarning: Your stop_words may be inconsistent with your preprocessing. Tokenizing the stop words generated tokens ['pok'] not in stop_words.\n",
            "  warnings.warn(\n"
          ]
        },
        {
          "output_type": "stream",
          "name": "stdout",
          "text": [
            "(84114, 5105)\n"
          ]
        }
      ]
    },
    {
      "cell_type": "code",
      "source": [
        "vectorizer.get_feature_names_out()[:50]"
      ],
      "metadata": {
        "colab": {
          "base_uri": "https://localhost:8080/"
        },
        "id": "KzMPc9yNdYFy",
        "outputId": "8edf855b-ed99-477e-fdba-2a8579a870c4"
      },
      "execution_count": null,
      "outputs": [
        {
          "output_type": "execute_result",
          "data": {
            "text/plain": [
              "array(['abajo', 'abandonado', 'abandonar', 'abandono', 'abdominal',\n",
              "       'abeja', 'abiertamente', 'abierto', 'abismo', 'abofetear',\n",
              "       'abogado', 'abordar', 'abortar', 'aborto', 'abrazar', 'abrazo',\n",
              "       'abril', 'abrir', 'abrumado', 'abrumador', 'abrumar',\n",
              "       'absolutamente', 'absoluto', 'absorber', 'absurdo', 'abuela',\n",
              "       'abuelo', 'aburrido', 'aburrimiento', 'aburrir', 'abusado',\n",
              "       'abusador', 'abusar', 'abusivo', 'abuso', 'acabar', 'academia',\n",
              "       'académicamente', 'académico', 'acantilado', 'acariciar', 'acaso',\n",
              "       'acceder', 'accesible', 'acceso', 'accidental', 'accidentalmente',\n",
              "       'accidente', 'acción', 'acechar'], dtype=object)"
            ]
          },
          "metadata": {},
          "execution_count": 29
        }
      ]
    },
    {
      "cell_type": "markdown",
      "source": [
        "<h1>Result<h1>"
      ],
      "metadata": {
        "id": "46s5Jqkat0_P"
      }
    },
    {
      "cell_type": "code",
      "source": [
        "dataset.sample(10)"
      ],
      "metadata": {
        "colab": {
          "base_uri": "https://localhost:8080/",
          "height": 580
        },
        "id": "MQvqV9DMtsCk",
        "outputId": "1bb59fe7-9f68-4ace-8af3-22b1e7fffdea"
      },
      "execution_count": 46,
      "outputs": [
        {
          "output_type": "execute_result",
          "data": {
            "text/plain": [
              "                                               traducido       class  \\\n",
              "58792  Cualquiera que quiere darme algunos rasguños d...  no_suicida   \n",
              "20348  A veces quiero morir ... Nunca he publicado aq...     suicida   \n",
              "78784  Sabes lo que obtuve para Navidad, obtuve liter...  no_suicida   \n",
              "15945  ¿Es extraño que pueda tener relaciones sexuale...     suicida   \n",
              "41651  10 componentes de la última nota efectiva, ¿qu...     suicida   \n",
              "81643  Lo he hecho, comí un plato entero de fideos co...  no_suicida   \n",
              "64209  Si quieres deshacerte de los anuncios en Spoti...  no_suicida   \n",
              "40014  Justo por qué ... ¿Por qué mi colaboración te ...     suicida   \n",
              "39481  Me extendí y nadie caresyes, sé que todos tien...     suicida   \n",
              "3296   El adolescente disfórico de género suicida se ...     suicida   \n",
              "\n",
              "                                              text_clean  \\\n",
              "58792  cualquiera que quiere darme algunos rasguños c...   \n",
              "20348  veces quiero morir nunca publicado aquí antes ...   \n",
              "78784  sabes que obtuve para navidad obtuve literalme...   \n",
              "15945  extraño que pueda tener relaciones sexuales si...   \n",
              "41651  componentes última nota efectiva qué encontrar...   \n",
              "81643  hecho comí plato entero fideos con salsa tomat...   \n",
              "64209  quieres deshacerte los anuncios spotify cierre...   \n",
              "40014  justo por qué por qué colaboración dio collar ...   \n",
              "39481  extendí nadie caresyes que todos tienen sus pr...   \n",
              "3296   adolescente disfórico género suicida queja por...   \n",
              "\n",
              "                                         text_clean_stop  \\\n",
              "58792  cualquiera quiere darme rasguños cabeza pelo r...   \n",
              "20348  veces quiero morir nunca publicado aquí pasand...   \n",
              "78784  sabes obtuve navidad obtuve literalmente ram n...   \n",
              "15945  extraño pueda tener relaciones sexuales emocio...   \n",
              "41651  componentes última nota efectiva encontraría ú...   \n",
              "81643  hecho comí plato entero fideos salsa tomate mi...   \n",
              "64209  quieres deshacerte anuncios spotify cierre apl...   \n",
              "40014  justo colaboración dio collar dio novio nuevo ...   \n",
              "39481  extendí nadie caresyes propios problemas pasan...   \n",
              "3296   adolescente disfórico género suicida queja min...   \n",
              "\n",
              "                                              text_lemma  \\\n",
              "58792  cualquiera que querer dar yo alguno rasguño ca...   \n",
              "20348  vez querer morir nunca publicar aquí antes no ...   \n",
              "78784  saber que obtener para navidad obtener literal...   \n",
              "15945  extraño que poder tener relación sexual sin em...   \n",
              "41651  componente último nota efectivo qué encontrar ...   \n",
              "81643  hecho comer plato entero fideo con salsa tomat...   \n",
              "64209  querer deshacerte el anuncio spotify cerrar ap...   \n",
              "40014  justo por qué por qué colaboración dar collar ...   \n",
              "39481  extendí nadie caresy que todo tener su propio ...   \n",
              "3296   adolescente disfórico género suicida queja por...   \n",
              "\n",
              "                                           text_tokenize  \n",
              "58792  [cualquiera, querer, dar, alguno, rasguño, cab...  \n",
              "20348  [vez, querer, morir, nunca, publicar, aquí, pa...  \n",
              "78784  [saber, obtener, navidad, obtener, literalment...  \n",
              "15945  [extraño, poder, tener, relación, sexual, emoc...  \n",
              "41651  [componente, último, nota, efectivo, encontrar...  \n",
              "81643  [hecho, comer, plato, entero, fideo, salsa, to...  \n",
              "64209  [querer, deshacerte, anuncio, spotify, cerrar,...  \n",
              "40014  [justo, colaboración, dar, collar, dar, novio,...  \n",
              "39481  [extendí, nadie, caresy, tener, propio, proble...  \n",
              "3296   [adolescente, disfórico, género, suicida, quej...  "
            ],
            "text/html": [
              "\n",
              "  <div id=\"df-33c99bdd-849f-4173-94a7-5d16950228fa\">\n",
              "    <div class=\"colab-df-container\">\n",
              "      <div>\n",
              "<style scoped>\n",
              "    .dataframe tbody tr th:only-of-type {\n",
              "        vertical-align: middle;\n",
              "    }\n",
              "\n",
              "    .dataframe tbody tr th {\n",
              "        vertical-align: top;\n",
              "    }\n",
              "\n",
              "    .dataframe thead th {\n",
              "        text-align: right;\n",
              "    }\n",
              "</style>\n",
              "<table border=\"1\" class=\"dataframe\">\n",
              "  <thead>\n",
              "    <tr style=\"text-align: right;\">\n",
              "      <th></th>\n",
              "      <th>traducido</th>\n",
              "      <th>class</th>\n",
              "      <th>text_clean</th>\n",
              "      <th>text_clean_stop</th>\n",
              "      <th>text_lemma</th>\n",
              "      <th>text_tokenize</th>\n",
              "    </tr>\n",
              "  </thead>\n",
              "  <tbody>\n",
              "    <tr>\n",
              "      <th>58792</th>\n",
              "      <td>Cualquiera que quiere darme algunos rasguños d...</td>\n",
              "      <td>no_suicida</td>\n",
              "      <td>cualquiera que quiere darme algunos rasguños c...</td>\n",
              "      <td>cualquiera quiere darme rasguños cabeza pelo r...</td>\n",
              "      <td>cualquiera que querer dar yo alguno rasguño ca...</td>\n",
              "      <td>[cualquiera, querer, dar, alguno, rasguño, cab...</td>\n",
              "    </tr>\n",
              "    <tr>\n",
              "      <th>20348</th>\n",
              "      <td>A veces quiero morir ... Nunca he publicado aq...</td>\n",
              "      <td>suicida</td>\n",
              "      <td>veces quiero morir nunca publicado aquí antes ...</td>\n",
              "      <td>veces quiero morir nunca publicado aquí pasand...</td>\n",
              "      <td>vez querer morir nunca publicar aquí antes no ...</td>\n",
              "      <td>[vez, querer, morir, nunca, publicar, aquí, pa...</td>\n",
              "    </tr>\n",
              "    <tr>\n",
              "      <th>78784</th>\n",
              "      <td>Sabes lo que obtuve para Navidad, obtuve liter...</td>\n",
              "      <td>no_suicida</td>\n",
              "      <td>sabes que obtuve para navidad obtuve literalme...</td>\n",
              "      <td>sabes obtuve navidad obtuve literalmente ram n...</td>\n",
              "      <td>saber que obtener para navidad obtener literal...</td>\n",
              "      <td>[saber, obtener, navidad, obtener, literalment...</td>\n",
              "    </tr>\n",
              "    <tr>\n",
              "      <th>15945</th>\n",
              "      <td>¿Es extraño que pueda tener relaciones sexuale...</td>\n",
              "      <td>suicida</td>\n",
              "      <td>extraño que pueda tener relaciones sexuales si...</td>\n",
              "      <td>extraño pueda tener relaciones sexuales emocio...</td>\n",
              "      <td>extraño que poder tener relación sexual sin em...</td>\n",
              "      <td>[extraño, poder, tener, relación, sexual, emoc...</td>\n",
              "    </tr>\n",
              "    <tr>\n",
              "      <th>41651</th>\n",
              "      <td>10 componentes de la última nota efectiva, ¿qu...</td>\n",
              "      <td>suicida</td>\n",
              "      <td>componentes última nota efectiva qué encontrar...</td>\n",
              "      <td>componentes última nota efectiva encontraría ú...</td>\n",
              "      <td>componente último nota efectivo qué encontrar ...</td>\n",
              "      <td>[componente, último, nota, efectivo, encontrar...</td>\n",
              "    </tr>\n",
              "    <tr>\n",
              "      <th>81643</th>\n",
              "      <td>Lo he hecho, comí un plato entero de fideos co...</td>\n",
              "      <td>no_suicida</td>\n",
              "      <td>hecho comí plato entero fideos con salsa tomat...</td>\n",
              "      <td>hecho comí plato entero fideos salsa tomate mi...</td>\n",
              "      <td>hecho comer plato entero fideo con salsa tomat...</td>\n",
              "      <td>[hecho, comer, plato, entero, fideo, salsa, to...</td>\n",
              "    </tr>\n",
              "    <tr>\n",
              "      <th>64209</th>\n",
              "      <td>Si quieres deshacerte de los anuncios en Spoti...</td>\n",
              "      <td>no_suicida</td>\n",
              "      <td>quieres deshacerte los anuncios spotify cierre...</td>\n",
              "      <td>quieres deshacerte anuncios spotify cierre apl...</td>\n",
              "      <td>querer deshacerte el anuncio spotify cerrar ap...</td>\n",
              "      <td>[querer, deshacerte, anuncio, spotify, cerrar,...</td>\n",
              "    </tr>\n",
              "    <tr>\n",
              "      <th>40014</th>\n",
              "      <td>Justo por qué ... ¿Por qué mi colaboración te ...</td>\n",
              "      <td>suicida</td>\n",
              "      <td>justo por qué por qué colaboración dio collar ...</td>\n",
              "      <td>justo colaboración dio collar dio novio nuevo ...</td>\n",
              "      <td>justo por qué por qué colaboración dar collar ...</td>\n",
              "      <td>[justo, colaboración, dar, collar, dar, novio,...</td>\n",
              "    </tr>\n",
              "    <tr>\n",
              "      <th>39481</th>\n",
              "      <td>Me extendí y nadie caresyes, sé que todos tien...</td>\n",
              "      <td>suicida</td>\n",
              "      <td>extendí nadie caresyes que todos tienen sus pr...</td>\n",
              "      <td>extendí nadie caresyes propios problemas pasan...</td>\n",
              "      <td>extendí nadie caresy que todo tener su propio ...</td>\n",
              "      <td>[extendí, nadie, caresy, tener, propio, proble...</td>\n",
              "    </tr>\n",
              "    <tr>\n",
              "      <th>3296</th>\n",
              "      <td>El adolescente disfórico de género suicida se ...</td>\n",
              "      <td>suicida</td>\n",
              "      <td>adolescente disfórico género suicida queja por...</td>\n",
              "      <td>adolescente disfórico género suicida queja min...</td>\n",
              "      <td>adolescente disfórico género suicida queja por...</td>\n",
              "      <td>[adolescente, disfórico, género, suicida, quej...</td>\n",
              "    </tr>\n",
              "  </tbody>\n",
              "</table>\n",
              "</div>\n",
              "      <button class=\"colab-df-convert\" onclick=\"convertToInteractive('df-33c99bdd-849f-4173-94a7-5d16950228fa')\"\n",
              "              title=\"Convert this dataframe to an interactive table.\"\n",
              "              style=\"display:none;\">\n",
              "        \n",
              "  <svg xmlns=\"http://www.w3.org/2000/svg\" height=\"24px\"viewBox=\"0 0 24 24\"\n",
              "       width=\"24px\">\n",
              "    <path d=\"M0 0h24v24H0V0z\" fill=\"none\"/>\n",
              "    <path d=\"M18.56 5.44l.94 2.06.94-2.06 2.06-.94-2.06-.94-.94-2.06-.94 2.06-2.06.94zm-11 1L8.5 8.5l.94-2.06 2.06-.94-2.06-.94L8.5 2.5l-.94 2.06-2.06.94zm10 10l.94 2.06.94-2.06 2.06-.94-2.06-.94-.94-2.06-.94 2.06-2.06.94z\"/><path d=\"M17.41 7.96l-1.37-1.37c-.4-.4-.92-.59-1.43-.59-.52 0-1.04.2-1.43.59L10.3 9.45l-7.72 7.72c-.78.78-.78 2.05 0 2.83L4 21.41c.39.39.9.59 1.41.59.51 0 1.02-.2 1.41-.59l7.78-7.78 2.81-2.81c.8-.78.8-2.07 0-2.86zM5.41 20L4 18.59l7.72-7.72 1.47 1.35L5.41 20z\"/>\n",
              "  </svg>\n",
              "      </button>\n",
              "      \n",
              "  <style>\n",
              "    .colab-df-container {\n",
              "      display:flex;\n",
              "      flex-wrap:wrap;\n",
              "      gap: 12px;\n",
              "    }\n",
              "\n",
              "    .colab-df-convert {\n",
              "      background-color: #E8F0FE;\n",
              "      border: none;\n",
              "      border-radius: 50%;\n",
              "      cursor: pointer;\n",
              "      display: none;\n",
              "      fill: #1967D2;\n",
              "      height: 32px;\n",
              "      padding: 0 0 0 0;\n",
              "      width: 32px;\n",
              "    }\n",
              "\n",
              "    .colab-df-convert:hover {\n",
              "      background-color: #E2EBFA;\n",
              "      box-shadow: 0px 1px 2px rgba(60, 64, 67, 0.3), 0px 1px 3px 1px rgba(60, 64, 67, 0.15);\n",
              "      fill: #174EA6;\n",
              "    }\n",
              "\n",
              "    [theme=dark] .colab-df-convert {\n",
              "      background-color: #3B4455;\n",
              "      fill: #D2E3FC;\n",
              "    }\n",
              "\n",
              "    [theme=dark] .colab-df-convert:hover {\n",
              "      background-color: #434B5C;\n",
              "      box-shadow: 0px 1px 3px 1px rgba(0, 0, 0, 0.15);\n",
              "      filter: drop-shadow(0px 1px 2px rgba(0, 0, 0, 0.3));\n",
              "      fill: #FFFFFF;\n",
              "    }\n",
              "  </style>\n",
              "\n",
              "      <script>\n",
              "        const buttonEl =\n",
              "          document.querySelector('#df-33c99bdd-849f-4173-94a7-5d16950228fa button.colab-df-convert');\n",
              "        buttonEl.style.display =\n",
              "          google.colab.kernel.accessAllowed ? 'block' : 'none';\n",
              "\n",
              "        async function convertToInteractive(key) {\n",
              "          const element = document.querySelector('#df-33c99bdd-849f-4173-94a7-5d16950228fa');\n",
              "          const dataTable =\n",
              "            await google.colab.kernel.invokeFunction('convertToInteractive',\n",
              "                                                     [key], {});\n",
              "          if (!dataTable) return;\n",
              "\n",
              "          const docLinkHtml = 'Like what you see? Visit the ' +\n",
              "            '<a target=\"_blank\" href=https://colab.research.google.com/notebooks/data_table.ipynb>data table notebook</a>'\n",
              "            + ' to learn more about interactive tables.';\n",
              "          element.innerHTML = '';\n",
              "          dataTable['output_type'] = 'display_data';\n",
              "          await google.colab.output.renderOutput(dataTable, element);\n",
              "          const docLink = document.createElement('div');\n",
              "          docLink.innerHTML = docLinkHtml;\n",
              "          element.appendChild(docLink);\n",
              "        }\n",
              "      </script>\n",
              "    </div>\n",
              "  </div>\n",
              "  "
            ]
          },
          "metadata": {},
          "execution_count": 46
        }
      ]
    },
    {
      "cell_type": "markdown",
      "source": [
        "<h1>Download and use<h1>"
      ],
      "metadata": {
        "id": "3wlJY2MT0Zri"
      }
    },
    {
      "cell_type": "code",
      "source": [
        "data_clean=dataset[['class','text_clean'] ]\n",
        "\n",
        "data_clean.to_csv(\"dataset_clean.csv\", index=False)\n",
        "files.download('dataset_clean.csv')"
      ],
      "metadata": {
        "colab": {
          "base_uri": "https://localhost:8080/",
          "height": 17
        },
        "id": "PoVFCdehuGGi",
        "outputId": "c45c0feb-fda6-417a-84d7-14e253d1c9a6"
      },
      "execution_count": null,
      "outputs": [
        {
          "output_type": "display_data",
          "data": {
            "text/plain": [
              "<IPython.core.display.Javascript object>"
            ],
            "application/javascript": [
              "\n",
              "    async function download(id, filename, size) {\n",
              "      if (!google.colab.kernel.accessAllowed) {\n",
              "        return;\n",
              "      }\n",
              "      const div = document.createElement('div');\n",
              "      const label = document.createElement('label');\n",
              "      label.textContent = `Downloading \"${filename}\": `;\n",
              "      div.appendChild(label);\n",
              "      const progress = document.createElement('progress');\n",
              "      progress.max = size;\n",
              "      div.appendChild(progress);\n",
              "      document.body.appendChild(div);\n",
              "\n",
              "      const buffers = [];\n",
              "      let downloaded = 0;\n",
              "\n",
              "      const channel = await google.colab.kernel.comms.open(id);\n",
              "      // Send a message to notify the kernel that we're ready.\n",
              "      channel.send({})\n",
              "\n",
              "      for await (const message of channel.messages) {\n",
              "        // Send a message to notify the kernel that we're ready.\n",
              "        channel.send({})\n",
              "        if (message.buffers) {\n",
              "          for (const buffer of message.buffers) {\n",
              "            buffers.push(buffer);\n",
              "            downloaded += buffer.byteLength;\n",
              "            progress.value = downloaded;\n",
              "          }\n",
              "        }\n",
              "      }\n",
              "      const blob = new Blob(buffers, {type: 'application/binary'});\n",
              "      const a = document.createElement('a');\n",
              "      a.href = window.URL.createObjectURL(blob);\n",
              "      a.download = filename;\n",
              "      div.appendChild(a);\n",
              "      a.click();\n",
              "      div.remove();\n",
              "    }\n",
              "  "
            ]
          },
          "metadata": {}
        },
        {
          "output_type": "display_data",
          "data": {
            "text/plain": [
              "<IPython.core.display.Javascript object>"
            ],
            "application/javascript": [
              "download(\"download_22aff51e-70c4-454d-949d-6d87f613b16e\", \"dataset_clean.csv\", 47356303)"
            ]
          },
          "metadata": {}
        }
      ]
    },
    {
      "cell_type": "code",
      "source": [
        "data_stop=dataset[['class','text_clean_stop'] ]\n",
        "\n",
        "data_stop.to_csv(\"text_clean_stop.csv\", index=False)\n",
        "files.download('text_clean_stop.csv')"
      ],
      "metadata": {
        "colab": {
          "base_uri": "https://localhost:8080/",
          "height": 17
        },
        "id": "YZ8E7e-QvTJg",
        "outputId": "c1097e9d-f891-48e4-8b77-a153bae7ca2c"
      },
      "execution_count": null,
      "outputs": [
        {
          "output_type": "display_data",
          "data": {
            "text/plain": [
              "<IPython.core.display.Javascript object>"
            ],
            "application/javascript": [
              "\n",
              "    async function download(id, filename, size) {\n",
              "      if (!google.colab.kernel.accessAllowed) {\n",
              "        return;\n",
              "      }\n",
              "      const div = document.createElement('div');\n",
              "      const label = document.createElement('label');\n",
              "      label.textContent = `Downloading \"${filename}\": `;\n",
              "      div.appendChild(label);\n",
              "      const progress = document.createElement('progress');\n",
              "      progress.max = size;\n",
              "      div.appendChild(progress);\n",
              "      document.body.appendChild(div);\n",
              "\n",
              "      const buffers = [];\n",
              "      let downloaded = 0;\n",
              "\n",
              "      const channel = await google.colab.kernel.comms.open(id);\n",
              "      // Send a message to notify the kernel that we're ready.\n",
              "      channel.send({})\n",
              "\n",
              "      for await (const message of channel.messages) {\n",
              "        // Send a message to notify the kernel that we're ready.\n",
              "        channel.send({})\n",
              "        if (message.buffers) {\n",
              "          for (const buffer of message.buffers) {\n",
              "            buffers.push(buffer);\n",
              "            downloaded += buffer.byteLength;\n",
              "            progress.value = downloaded;\n",
              "          }\n",
              "        }\n",
              "      }\n",
              "      const blob = new Blob(buffers, {type: 'application/binary'});\n",
              "      const a = document.createElement('a');\n",
              "      a.href = window.URL.createObjectURL(blob);\n",
              "      a.download = filename;\n",
              "      div.appendChild(a);\n",
              "      a.click();\n",
              "      div.remove();\n",
              "    }\n",
              "  "
            ]
          },
          "metadata": {}
        },
        {
          "output_type": "display_data",
          "data": {
            "text/plain": [
              "<IPython.core.display.Javascript object>"
            ],
            "application/javascript": [
              "download(\"download_af9af179-eb23-4462-9ad8-472105bba5a6\", \"text_clean_stop.csv\", 35418132)"
            ]
          },
          "metadata": {}
        }
      ]
    },
    {
      "cell_type": "code",
      "source": [
        "data_lemma=dataset[['class','text_lemma'] ]\n",
        "\n",
        "data_lemma.to_csv(\"text_lemma.csv\", index=False)\n",
        "files.download('text_lemma.csv')"
      ],
      "metadata": {
        "colab": {
          "base_uri": "https://localhost:8080/",
          "height": 17
        },
        "id": "_jQnrYObvlx-",
        "outputId": "c3bee48e-b23d-4315-baf4-3552c53ba6dc"
      },
      "execution_count": 38,
      "outputs": [
        {
          "output_type": "display_data",
          "data": {
            "text/plain": [
              "<IPython.core.display.Javascript object>"
            ],
            "application/javascript": [
              "\n",
              "    async function download(id, filename, size) {\n",
              "      if (!google.colab.kernel.accessAllowed) {\n",
              "        return;\n",
              "      }\n",
              "      const div = document.createElement('div');\n",
              "      const label = document.createElement('label');\n",
              "      label.textContent = `Downloading \"${filename}\": `;\n",
              "      div.appendChild(label);\n",
              "      const progress = document.createElement('progress');\n",
              "      progress.max = size;\n",
              "      div.appendChild(progress);\n",
              "      document.body.appendChild(div);\n",
              "\n",
              "      const buffers = [];\n",
              "      let downloaded = 0;\n",
              "\n",
              "      const channel = await google.colab.kernel.comms.open(id);\n",
              "      // Send a message to notify the kernel that we're ready.\n",
              "      channel.send({})\n",
              "\n",
              "      for await (const message of channel.messages) {\n",
              "        // Send a message to notify the kernel that we're ready.\n",
              "        channel.send({})\n",
              "        if (message.buffers) {\n",
              "          for (const buffer of message.buffers) {\n",
              "            buffers.push(buffer);\n",
              "            downloaded += buffer.byteLength;\n",
              "            progress.value = downloaded;\n",
              "          }\n",
              "        }\n",
              "      }\n",
              "      const blob = new Blob(buffers, {type: 'application/binary'});\n",
              "      const a = document.createElement('a');\n",
              "      a.href = window.URL.createObjectURL(blob);\n",
              "      a.download = filename;\n",
              "      div.appendChild(a);\n",
              "      a.click();\n",
              "      div.remove();\n",
              "    }\n",
              "  "
            ]
          },
          "metadata": {}
        },
        {
          "output_type": "display_data",
          "data": {
            "text/plain": [
              "<IPython.core.display.Javascript object>"
            ],
            "application/javascript": [
              "download(\"download_597f8264-dcc9-40ac-a43e-fd37f9d762ac\", \"text_lemma.csv\", 46187603)"
            ]
          },
          "metadata": {}
        }
      ]
    },
    {
      "cell_type": "code",
      "source": [
        "data_tokenize=dataset[['class','text_tokenize'] ]\n",
        "\n",
        "data_tokenize.to_csv(\"text_tokenize.csv\", index=False)\n",
        "files.download('text_tokenize.csv')"
      ],
      "metadata": {
        "id": "xsk3-aNIv7wA",
        "colab": {
          "base_uri": "https://localhost:8080/",
          "height": 17
        },
        "outputId": "f606b0c5-da11-49cc-9373-3e51418b458c"
      },
      "execution_count": 47,
      "outputs": [
        {
          "output_type": "display_data",
          "data": {
            "text/plain": [
              "<IPython.core.display.Javascript object>"
            ],
            "application/javascript": [
              "\n",
              "    async function download(id, filename, size) {\n",
              "      if (!google.colab.kernel.accessAllowed) {\n",
              "        return;\n",
              "      }\n",
              "      const div = document.createElement('div');\n",
              "      const label = document.createElement('label');\n",
              "      label.textContent = `Downloading \"${filename}\": `;\n",
              "      div.appendChild(label);\n",
              "      const progress = document.createElement('progress');\n",
              "      progress.max = size;\n",
              "      div.appendChild(progress);\n",
              "      document.body.appendChild(div);\n",
              "\n",
              "      const buffers = [];\n",
              "      let downloaded = 0;\n",
              "\n",
              "      const channel = await google.colab.kernel.comms.open(id);\n",
              "      // Send a message to notify the kernel that we're ready.\n",
              "      channel.send({})\n",
              "\n",
              "      for await (const message of channel.messages) {\n",
              "        // Send a message to notify the kernel that we're ready.\n",
              "        channel.send({})\n",
              "        if (message.buffers) {\n",
              "          for (const buffer of message.buffers) {\n",
              "            buffers.push(buffer);\n",
              "            downloaded += buffer.byteLength;\n",
              "            progress.value = downloaded;\n",
              "          }\n",
              "        }\n",
              "      }\n",
              "      const blob = new Blob(buffers, {type: 'application/binary'});\n",
              "      const a = document.createElement('a');\n",
              "      a.href = window.URL.createObjectURL(blob);\n",
              "      a.download = filename;\n",
              "      div.appendChild(a);\n",
              "      a.click();\n",
              "      div.remove();\n",
              "    }\n",
              "  "
            ]
          },
          "metadata": {}
        },
        {
          "output_type": "display_data",
          "data": {
            "text/plain": [
              "<IPython.core.display.Javascript object>"
            ],
            "application/javascript": [
              "download(\"download_85f7561d-5fb0-4c60-9c7b-6ed197fc87fe\", \"text_tokenize.csv\", 49718250)"
            ]
          },
          "metadata": {}
        }
      ]
    },
    {
      "cell_type": "code",
      "source": [
        "import pickle \n",
        "# Save the model tf-idf\n",
        "with open('tfidf.pkl', 'wb') as f:\n",
        "    pickle.dump(vectorizer, f)  "
      ],
      "metadata": {
        "id": "3agRLj7u0g7I"
      },
      "execution_count": null,
      "outputs": []
    }
  ],
  "metadata": {
    "kernelspec": {
      "display_name": "Python 3",
      "language": "python",
      "name": "python3"
    },
    "language_info": {
      "codemirror_mode": {
        "name": "ipython",
        "version": 3
      },
      "file_extension": ".py",
      "mimetype": "text/x-python",
      "name": "python",
      "nbconvert_exporter": "python",
      "pygments_lexer": "ipython3",
      "version": "3.10.9"
    },
    "orig_nbformat": 4,
    "colab": {
      "provenance": []
    }
  },
  "nbformat": 4,
  "nbformat_minor": 0
}